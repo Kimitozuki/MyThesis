{
 "cells": [
  {
   "cell_type": "code",
   "execution_count": 1,
   "metadata": {},
   "outputs": [
    {
     "name": "stderr",
     "output_type": "stream",
     "text": [
      "c:\\Users\\Wildan Mufid R\\miniconda3\\envs\\main\\lib\\site-packages\\tensorflow_addons\\utils\\tfa_eol_msg.py:23: UserWarning: \n",
      "\n",
      "TensorFlow Addons (TFA) has ended development and introduction of new features.\n",
      "TFA has entered a minimal maintenance and release mode until a planned end of life in May 2024.\n",
      "Please modify downstream libraries to take dependencies from other repositories in our TensorFlow community (e.g. Keras, Keras-CV, and Keras-NLP). \n",
      "\n",
      "For more information see: https://github.com/tensorflow/addons/issues/2807 \n",
      "\n",
      "  warnings.warn(\n",
      "c:\\Users\\Wildan Mufid R\\miniconda3\\envs\\main\\lib\\site-packages\\tensorflow_addons\\utils\\ensure_tf_install.py:53: UserWarning: Tensorflow Addons supports using Python ops for all Tensorflow versions above or equal to 2.11.0 and strictly below 2.14.0 (nightly versions are not supported). \n",
      " The versions of TensorFlow you are currently using is 2.14.0 and is not supported. \n",
      "Some things might work, some things might not.\n",
      "If you were to encounter a bug, do not file an issue.\n",
      "If you want to make sure you're using a tested and supported configuration, either change the TensorFlow version or the TensorFlow Addons's version. \n",
      "You can find the compatibility matrix in TensorFlow Addon's readme:\n",
      "https://github.com/tensorflow/addons\n",
      "  warnings.warn(\n"
     ]
    }
   ],
   "source": [
    "import tensorflow as tf\n",
    "import tensorflow_addons as tfa\n",
    "from tensorflow.keras.callbacks import ModelCheckpoint, TensorBoard, EarlyStopping\n",
    "from tensorflow.keras.layers import LSTM\n",
    "\n",
    "import numpy as np\n",
    "import pandas as pd\n",
    "from sklearn.preprocessing import OneHotEncoder\n",
    "\n",
    "import matplotlib.pyplot as plt\n",
    "import plotly.express as px\n",
    "import plotly.graph_objects as go\n",
    "\n",
    "import h5py"
   ]
  },
  {
   "cell_type": "code",
   "execution_count": 48,
   "metadata": {},
   "outputs": [],
   "source": [
    "target = 'bilstm'\n",
    "LR = []\n",
    "BZ = []\n",
    "COM = []\n",
    "Ep = []\n",
    "train_acc = []\n",
    "val_acc = []\n",
    "train_loss = []\n",
    "val_loss = []\n",
    "avg_acc = []\n",
    "avg_loss = []\n",
    "\n",
    "for mod in [1,2,3]:\n",
    "    for bz in [16,32,64]:\n",
    "        for red in [5]:\n",
    "            for lr in [1E-03, 1E-04, 1E-05]:\n",
    "                with h5py.File(f'logs{mod}/{bz}/history_{target}_dset{red}_{lr}.h5','r') as hf:\n",
    "                    LR.append(lr)\n",
    "                    BZ.append(bz)\n",
    "                    COM.append(mod)\n",
    "                    Ep.append(len(np.array(hf.get('accuracy'))))\n",
    "                    train_acc.append(np.array(hf.get('accuracy'))[-1])\n",
    "                    val_acc.append(np.array(hf.get('val_accuracy'))[-1])\n",
    "                    train_loss.append(np.array(hf.get('loss'))[-1])\n",
    "                    val_loss.append(np.array(hf.get('val_loss'))[-1])\n",
    "                    avg_acc.append((np.array(hf.get('accuracy'))[-1] + np.array(hf.get('val_accuracy'))[-1]) / 2)\n",
    "                    avg_loss.append((np.array(hf.get('loss'))[-1] + np.array(hf.get('val_loss'))[-1]) / 2)"
   ]
  },
  {
   "cell_type": "code",
   "execution_count": 49,
   "metadata": {},
   "outputs": [],
   "source": [
    "d = {'Lr': LR, 'Batch Size': BZ, 'Combination': COM, 'Epoch': Ep, 'Train Acc': train_acc, 'Val Acc': val_acc, 'Train Loss': train_loss, 'Val Loss': val_loss, 'Avg Acc': avg_acc, 'Avg Loss': avg_loss}\n",
    "df = pd.DataFrame(data=d)"
   ]
  },
  {
   "cell_type": "code",
   "execution_count": 50,
   "metadata": {},
   "outputs": [
    {
     "data": {
      "text/html": [
       "<div>\n",
       "<style scoped>\n",
       "    .dataframe tbody tr th:only-of-type {\n",
       "        vertical-align: middle;\n",
       "    }\n",
       "\n",
       "    .dataframe tbody tr th {\n",
       "        vertical-align: top;\n",
       "    }\n",
       "\n",
       "    .dataframe thead th {\n",
       "        text-align: right;\n",
       "    }\n",
       "</style>\n",
       "<table border=\"1\" class=\"dataframe\">\n",
       "  <thead>\n",
       "    <tr style=\"text-align: right;\">\n",
       "      <th></th>\n",
       "      <th>Lr</th>\n",
       "      <th>Batch Size</th>\n",
       "      <th>Combination</th>\n",
       "      <th>Epoch</th>\n",
       "      <th>Train Acc</th>\n",
       "      <th>Val Acc</th>\n",
       "      <th>Train Loss</th>\n",
       "      <th>Val Loss</th>\n",
       "      <th>Avg Acc</th>\n",
       "      <th>Avg Loss</th>\n",
       "    </tr>\n",
       "  </thead>\n",
       "  <tbody>\n",
       "    <tr>\n",
       "      <th>21</th>\n",
       "      <td>0.00100</td>\n",
       "      <td>32</td>\n",
       "      <td>3</td>\n",
       "      <td>66</td>\n",
       "      <td>1.000000</td>\n",
       "      <td>0.980488</td>\n",
       "      <td>0.002443</td>\n",
       "      <td>0.082756</td>\n",
       "      <td>0.990244</td>\n",
       "      <td>0.042600</td>\n",
       "    </tr>\n",
       "    <tr>\n",
       "      <th>12</th>\n",
       "      <td>0.00100</td>\n",
       "      <td>32</td>\n",
       "      <td>2</td>\n",
       "      <td>30</td>\n",
       "      <td>1.000000</td>\n",
       "      <td>0.980488</td>\n",
       "      <td>0.002993</td>\n",
       "      <td>0.129185</td>\n",
       "      <td>0.990244</td>\n",
       "      <td>0.066089</td>\n",
       "    </tr>\n",
       "    <tr>\n",
       "      <th>10</th>\n",
       "      <td>0.00010</td>\n",
       "      <td>16</td>\n",
       "      <td>2</td>\n",
       "      <td>24</td>\n",
       "      <td>0.995098</td>\n",
       "      <td>0.985366</td>\n",
       "      <td>0.036366</td>\n",
       "      <td>0.100582</td>\n",
       "      <td>0.990232</td>\n",
       "      <td>0.068474</td>\n",
       "    </tr>\n",
       "    <tr>\n",
       "      <th>19</th>\n",
       "      <td>0.00010</td>\n",
       "      <td>16</td>\n",
       "      <td>3</td>\n",
       "      <td>47</td>\n",
       "      <td>0.998775</td>\n",
       "      <td>0.975610</td>\n",
       "      <td>0.007045</td>\n",
       "      <td>0.129028</td>\n",
       "      <td>0.987192</td>\n",
       "      <td>0.068037</td>\n",
       "    </tr>\n",
       "    <tr>\n",
       "      <th>15</th>\n",
       "      <td>0.00100</td>\n",
       "      <td>64</td>\n",
       "      <td>2</td>\n",
       "      <td>51</td>\n",
       "      <td>1.000000</td>\n",
       "      <td>0.970732</td>\n",
       "      <td>0.001363</td>\n",
       "      <td>0.198958</td>\n",
       "      <td>0.985366</td>\n",
       "      <td>0.100160</td>\n",
       "    </tr>\n",
       "    <tr>\n",
       "      <th>24</th>\n",
       "      <td>0.00100</td>\n",
       "      <td>64</td>\n",
       "      <td>3</td>\n",
       "      <td>43</td>\n",
       "      <td>0.998775</td>\n",
       "      <td>0.970732</td>\n",
       "      <td>0.003261</td>\n",
       "      <td>0.183788</td>\n",
       "      <td>0.984753</td>\n",
       "      <td>0.093525</td>\n",
       "    </tr>\n",
       "    <tr>\n",
       "      <th>9</th>\n",
       "      <td>0.00100</td>\n",
       "      <td>16</td>\n",
       "      <td>2</td>\n",
       "      <td>45</td>\n",
       "      <td>0.998775</td>\n",
       "      <td>0.970732</td>\n",
       "      <td>0.004181</td>\n",
       "      <td>0.243318</td>\n",
       "      <td>0.984753</td>\n",
       "      <td>0.123750</td>\n",
       "    </tr>\n",
       "    <tr>\n",
       "      <th>6</th>\n",
       "      <td>0.00100</td>\n",
       "      <td>64</td>\n",
       "      <td>1</td>\n",
       "      <td>48</td>\n",
       "      <td>1.000000</td>\n",
       "      <td>0.965854</td>\n",
       "      <td>0.003884</td>\n",
       "      <td>0.133925</td>\n",
       "      <td>0.982927</td>\n",
       "      <td>0.068904</td>\n",
       "    </tr>\n",
       "    <tr>\n",
       "      <th>22</th>\n",
       "      <td>0.00010</td>\n",
       "      <td>32</td>\n",
       "      <td>3</td>\n",
       "      <td>21</td>\n",
       "      <td>0.996324</td>\n",
       "      <td>0.965854</td>\n",
       "      <td>0.018218</td>\n",
       "      <td>0.154482</td>\n",
       "      <td>0.981089</td>\n",
       "      <td>0.086350</td>\n",
       "    </tr>\n",
       "    <tr>\n",
       "      <th>13</th>\n",
       "      <td>0.00010</td>\n",
       "      <td>32</td>\n",
       "      <td>2</td>\n",
       "      <td>30</td>\n",
       "      <td>0.996324</td>\n",
       "      <td>0.965854</td>\n",
       "      <td>0.066472</td>\n",
       "      <td>0.182702</td>\n",
       "      <td>0.981089</td>\n",
       "      <td>0.124587</td>\n",
       "    </tr>\n",
       "    <tr>\n",
       "      <th>23</th>\n",
       "      <td>0.00001</td>\n",
       "      <td>32</td>\n",
       "      <td>3</td>\n",
       "      <td>41</td>\n",
       "      <td>0.993873</td>\n",
       "      <td>0.965854</td>\n",
       "      <td>0.073586</td>\n",
       "      <td>0.146639</td>\n",
       "      <td>0.979863</td>\n",
       "      <td>0.110113</td>\n",
       "    </tr>\n",
       "    <tr>\n",
       "      <th>16</th>\n",
       "      <td>0.00010</td>\n",
       "      <td>64</td>\n",
       "      <td>2</td>\n",
       "      <td>48</td>\n",
       "      <td>0.997549</td>\n",
       "      <td>0.960976</td>\n",
       "      <td>0.073060</td>\n",
       "      <td>0.175433</td>\n",
       "      <td>0.979262</td>\n",
       "      <td>0.124247</td>\n",
       "    </tr>\n",
       "    <tr>\n",
       "      <th>25</th>\n",
       "      <td>0.00010</td>\n",
       "      <td>64</td>\n",
       "      <td>3</td>\n",
       "      <td>29</td>\n",
       "      <td>0.996324</td>\n",
       "      <td>0.960976</td>\n",
       "      <td>0.028626</td>\n",
       "      <td>0.157695</td>\n",
       "      <td>0.978650</td>\n",
       "      <td>0.093160</td>\n",
       "    </tr>\n",
       "    <tr>\n",
       "      <th>4</th>\n",
       "      <td>0.00010</td>\n",
       "      <td>32</td>\n",
       "      <td>1</td>\n",
       "      <td>65</td>\n",
       "      <td>0.987745</td>\n",
       "      <td>0.965854</td>\n",
       "      <td>0.143629</td>\n",
       "      <td>0.245718</td>\n",
       "      <td>0.976799</td>\n",
       "      <td>0.194673</td>\n",
       "    </tr>\n",
       "    <tr>\n",
       "      <th>20</th>\n",
       "      <td>0.00001</td>\n",
       "      <td>16</td>\n",
       "      <td>3</td>\n",
       "      <td>32</td>\n",
       "      <td>0.991422</td>\n",
       "      <td>0.956098</td>\n",
       "      <td>0.173267</td>\n",
       "      <td>0.212209</td>\n",
       "      <td>0.973760</td>\n",
       "      <td>0.192738</td>\n",
       "    </tr>\n",
       "    <tr>\n",
       "      <th>1</th>\n",
       "      <td>0.00010</td>\n",
       "      <td>16</td>\n",
       "      <td>1</td>\n",
       "      <td>51</td>\n",
       "      <td>0.991422</td>\n",
       "      <td>0.956098</td>\n",
       "      <td>0.076996</td>\n",
       "      <td>0.340113</td>\n",
       "      <td>0.973760</td>\n",
       "      <td>0.208554</td>\n",
       "    </tr>\n",
       "    <tr>\n",
       "      <th>0</th>\n",
       "      <td>0.00100</td>\n",
       "      <td>16</td>\n",
       "      <td>1</td>\n",
       "      <td>17</td>\n",
       "      <td>0.969363</td>\n",
       "      <td>0.965854</td>\n",
       "      <td>0.083185</td>\n",
       "      <td>0.147923</td>\n",
       "      <td>0.967608</td>\n",
       "      <td>0.115554</td>\n",
       "    </tr>\n",
       "    <tr>\n",
       "      <th>3</th>\n",
       "      <td>0.00100</td>\n",
       "      <td>32</td>\n",
       "      <td>1</td>\n",
       "      <td>41</td>\n",
       "      <td>0.984069</td>\n",
       "      <td>0.946341</td>\n",
       "      <td>0.046878</td>\n",
       "      <td>0.197336</td>\n",
       "      <td>0.965205</td>\n",
       "      <td>0.122107</td>\n",
       "    </tr>\n",
       "    <tr>\n",
       "      <th>18</th>\n",
       "      <td>0.00100</td>\n",
       "      <td>16</td>\n",
       "      <td>3</td>\n",
       "      <td>42</td>\n",
       "      <td>0.966912</td>\n",
       "      <td>0.956098</td>\n",
       "      <td>0.087761</td>\n",
       "      <td>0.166701</td>\n",
       "      <td>0.961505</td>\n",
       "      <td>0.127231</td>\n",
       "    </tr>\n",
       "    <tr>\n",
       "      <th>26</th>\n",
       "      <td>0.00001</td>\n",
       "      <td>64</td>\n",
       "      <td>3</td>\n",
       "      <td>59</td>\n",
       "      <td>0.979167</td>\n",
       "      <td>0.941463</td>\n",
       "      <td>0.167246</td>\n",
       "      <td>0.251852</td>\n",
       "      <td>0.960315</td>\n",
       "      <td>0.209549</td>\n",
       "    </tr>\n",
       "    <tr>\n",
       "      <th>11</th>\n",
       "      <td>0.00001</td>\n",
       "      <td>16</td>\n",
       "      <td>2</td>\n",
       "      <td>54</td>\n",
       "      <td>0.975490</td>\n",
       "      <td>0.936585</td>\n",
       "      <td>0.318697</td>\n",
       "      <td>0.385885</td>\n",
       "      <td>0.956038</td>\n",
       "      <td>0.352291</td>\n",
       "    </tr>\n",
       "    <tr>\n",
       "      <th>14</th>\n",
       "      <td>0.00001</td>\n",
       "      <td>32</td>\n",
       "      <td>2</td>\n",
       "      <td>73</td>\n",
       "      <td>0.957108</td>\n",
       "      <td>0.921951</td>\n",
       "      <td>0.492122</td>\n",
       "      <td>0.551935</td>\n",
       "      <td>0.939530</td>\n",
       "      <td>0.522029</td>\n",
       "    </tr>\n",
       "    <tr>\n",
       "      <th>7</th>\n",
       "      <td>0.00010</td>\n",
       "      <td>64</td>\n",
       "      <td>1</td>\n",
       "      <td>73</td>\n",
       "      <td>0.886029</td>\n",
       "      <td>0.863415</td>\n",
       "      <td>0.442988</td>\n",
       "      <td>0.507294</td>\n",
       "      <td>0.874722</td>\n",
       "      <td>0.475141</td>\n",
       "    </tr>\n",
       "    <tr>\n",
       "      <th>17</th>\n",
       "      <td>0.00001</td>\n",
       "      <td>64</td>\n",
       "      <td>2</td>\n",
       "      <td>73</td>\n",
       "      <td>0.859069</td>\n",
       "      <td>0.804878</td>\n",
       "      <td>0.648628</td>\n",
       "      <td>0.728558</td>\n",
       "      <td>0.831973</td>\n",
       "      <td>0.688593</td>\n",
       "    </tr>\n",
       "    <tr>\n",
       "      <th>2</th>\n",
       "      <td>0.00001</td>\n",
       "      <td>16</td>\n",
       "      <td>1</td>\n",
       "      <td>59</td>\n",
       "      <td>0.807598</td>\n",
       "      <td>0.765854</td>\n",
       "      <td>1.056547</td>\n",
       "      <td>1.030999</td>\n",
       "      <td>0.786726</td>\n",
       "      <td>1.043773</td>\n",
       "    </tr>\n",
       "    <tr>\n",
       "      <th>8</th>\n",
       "      <td>0.00001</td>\n",
       "      <td>64</td>\n",
       "      <td>1</td>\n",
       "      <td>56</td>\n",
       "      <td>0.589461</td>\n",
       "      <td>0.614634</td>\n",
       "      <td>1.367422</td>\n",
       "      <td>1.372250</td>\n",
       "      <td>0.602047</td>\n",
       "      <td>1.369836</td>\n",
       "    </tr>\n",
       "    <tr>\n",
       "      <th>5</th>\n",
       "      <td>0.00001</td>\n",
       "      <td>32</td>\n",
       "      <td>1</td>\n",
       "      <td>54</td>\n",
       "      <td>0.502451</td>\n",
       "      <td>0.512195</td>\n",
       "      <td>1.331843</td>\n",
       "      <td>1.270402</td>\n",
       "      <td>0.507323</td>\n",
       "      <td>1.301123</td>\n",
       "    </tr>\n",
       "  </tbody>\n",
       "</table>\n",
       "</div>"
      ],
      "text/plain": [
       "         Lr  Batch Size  Combination  Epoch  Train Acc   Val Acc  Train Loss  \\\n",
       "21  0.00100          32            3     66   1.000000  0.980488    0.002443   \n",
       "12  0.00100          32            2     30   1.000000  0.980488    0.002993   \n",
       "10  0.00010          16            2     24   0.995098  0.985366    0.036366   \n",
       "19  0.00010          16            3     47   0.998775  0.975610    0.007045   \n",
       "15  0.00100          64            2     51   1.000000  0.970732    0.001363   \n",
       "24  0.00100          64            3     43   0.998775  0.970732    0.003261   \n",
       "9   0.00100          16            2     45   0.998775  0.970732    0.004181   \n",
       "6   0.00100          64            1     48   1.000000  0.965854    0.003884   \n",
       "22  0.00010          32            3     21   0.996324  0.965854    0.018218   \n",
       "13  0.00010          32            2     30   0.996324  0.965854    0.066472   \n",
       "23  0.00001          32            3     41   0.993873  0.965854    0.073586   \n",
       "16  0.00010          64            2     48   0.997549  0.960976    0.073060   \n",
       "25  0.00010          64            3     29   0.996324  0.960976    0.028626   \n",
       "4   0.00010          32            1     65   0.987745  0.965854    0.143629   \n",
       "20  0.00001          16            3     32   0.991422  0.956098    0.173267   \n",
       "1   0.00010          16            1     51   0.991422  0.956098    0.076996   \n",
       "0   0.00100          16            1     17   0.969363  0.965854    0.083185   \n",
       "3   0.00100          32            1     41   0.984069  0.946341    0.046878   \n",
       "18  0.00100          16            3     42   0.966912  0.956098    0.087761   \n",
       "26  0.00001          64            3     59   0.979167  0.941463    0.167246   \n",
       "11  0.00001          16            2     54   0.975490  0.936585    0.318697   \n",
       "14  0.00001          32            2     73   0.957108  0.921951    0.492122   \n",
       "7   0.00010          64            1     73   0.886029  0.863415    0.442988   \n",
       "17  0.00001          64            2     73   0.859069  0.804878    0.648628   \n",
       "2   0.00001          16            1     59   0.807598  0.765854    1.056547   \n",
       "8   0.00001          64            1     56   0.589461  0.614634    1.367422   \n",
       "5   0.00001          32            1     54   0.502451  0.512195    1.331843   \n",
       "\n",
       "    Val Loss   Avg Acc  Avg Loss  \n",
       "21  0.082756  0.990244  0.042600  \n",
       "12  0.129185  0.990244  0.066089  \n",
       "10  0.100582  0.990232  0.068474  \n",
       "19  0.129028  0.987192  0.068037  \n",
       "15  0.198958  0.985366  0.100160  \n",
       "24  0.183788  0.984753  0.093525  \n",
       "9   0.243318  0.984753  0.123750  \n",
       "6   0.133925  0.982927  0.068904  \n",
       "22  0.154482  0.981089  0.086350  \n",
       "13  0.182702  0.981089  0.124587  \n",
       "23  0.146639  0.979863  0.110113  \n",
       "16  0.175433  0.979262  0.124247  \n",
       "25  0.157695  0.978650  0.093160  \n",
       "4   0.245718  0.976799  0.194673  \n",
       "20  0.212209  0.973760  0.192738  \n",
       "1   0.340113  0.973760  0.208554  \n",
       "0   0.147923  0.967608  0.115554  \n",
       "3   0.197336  0.965205  0.122107  \n",
       "18  0.166701  0.961505  0.127231  \n",
       "26  0.251852  0.960315  0.209549  \n",
       "11  0.385885  0.956038  0.352291  \n",
       "14  0.551935  0.939530  0.522029  \n",
       "7   0.507294  0.874722  0.475141  \n",
       "17  0.728558  0.831973  0.688593  \n",
       "2   1.030999  0.786726  1.043773  \n",
       "8   1.372250  0.602047  1.369836  \n",
       "5   1.270402  0.507323  1.301123  "
      ]
     },
     "execution_count": 50,
     "metadata": {},
     "output_type": "execute_result"
    }
   ],
   "source": [
    "df = df.sort_values(by=['Avg Acc', 'Avg Loss'], ascending=[False,True])\n",
    "df"
   ]
  },
  {
   "cell_type": "code",
   "execution_count": 51,
   "metadata": {},
   "outputs": [],
   "source": [
    "df.to_csv('logs_bilstm5.csv')"
   ]
  },
  {
   "cell_type": "code",
   "execution_count": 92,
   "metadata": {},
   "outputs": [
    {
     "name": "stdout",
     "output_type": "stream",
     "text": [
      "<KeysViewHDF5 ['accuracy', 'f1_score', 'loss', 'val_accuracy', 'val_f1_score', 'val_loss']>\n"
     ]
    }
   ],
   "source": [
    "with h5py.File('logs2/64/history_bilstm_dset2_0.0001.h5','r') as hf:\n",
    "    print(hf.keys())\n",
    "    accuracy = np.array(hf.get('accuracy'))\n",
    "    f1_score = np.array(hf.get('f1_score'))\n",
    "    loss = np.array(hf.get('loss'))\n",
    "    val_accuracy = np.array(hf.get('val_accuracy'))\n",
    "    val_f1_score = np.array(hf.get('val_f1_score'))\n",
    "    val_loss = np.array(hf.get('val_loss'))"
   ]
  },
  {
   "cell_type": "code",
   "execution_count": 93,
   "metadata": {},
   "outputs": [
    {
     "data": {
      "application/vnd.plotly.v1+json": {
       "config": {
        "plotlyServerURL": "https://plot.ly"
       },
       "data": [
        {
         "mode": "lines",
         "name": "Akurasi",
         "type": "scatter",
         "x": [
          1,
          2,
          3,
          4,
          5,
          6,
          7,
          8,
          9,
          10,
          11,
          12,
          13,
          14,
          15,
          16,
          17,
          18,
          19,
          20,
          21,
          22,
          23,
          24,
          25,
          26,
          27,
          28,
          29,
          30,
          31,
          32,
          33,
          34,
          35,
          36,
          37,
          38,
          39,
          40,
          41,
          42,
          43,
          44,
          45,
          46
         ],
         "y": [
          0.24387255311012268,
          0.5171568393707275,
          0.6617646813392639,
          0.7267156839370728,
          0.7745097875595093,
          0.8149510025978088,
          0.845588207244873,
          0.8566176295280457,
          0.8725489974021912,
          0.8713235259056091,
          0.875,
          0.8786764740943909,
          0.8786764740943909,
          0.8799019455909729,
          0.8835784196853638,
          0.8835784196853638,
          0.8835784196853638,
          0.8872548937797546,
          0.8884803652763367,
          0.8897058963775635,
          0.8909313678741455,
          0.8933823704719543,
          0.8921568393707275,
          0.8982843160629272,
          0.9031862616539001,
          0.9424019455909729,
          0.9607843160629272,
          0.9803921580314636,
          0.9914215803146362,
          0.9938725233078003,
          0.9975489974021912,
          1,
          1,
          1,
          1,
          1,
          1,
          1,
          1,
          1,
          1,
          1,
          1,
          1,
          1,
          1
         ]
        },
        {
         "mode": "lines",
         "name": "Akurasi Validasi",
         "type": "scatter",
         "x": [
          1,
          2,
          3,
          4,
          5,
          6,
          7,
          8,
          9,
          10,
          11,
          12,
          13,
          14,
          15,
          16,
          17,
          18,
          19,
          20,
          21,
          22,
          23,
          24,
          25,
          26,
          27,
          28,
          29,
          30,
          31,
          32,
          33,
          34,
          35,
          36,
          37,
          38,
          39,
          40,
          41,
          42,
          43,
          44,
          45,
          46
         ],
         "y": [
          0.37560975551605225,
          0.5707316994667053,
          0.6536585092544556,
          0.70243901014328,
          0.7609755992889404,
          0.790243923664093,
          0.795121967792511,
          0.8048780560493469,
          0.8146341443061829,
          0.8048780560493469,
          0.8195121884346008,
          0.8243902325630188,
          0.8195121884346008,
          0.8292682766914368,
          0.8292682766914368,
          0.8390243649482727,
          0.8341463208198547,
          0.8390243649482727,
          0.8439024686813354,
          0.8487805128097534,
          0.8585366010665894,
          0.8487805128097534,
          0.8390243649482727,
          0.8585366010665894,
          0.8829268217086792,
          0.9121951460838318,
          0.9365853667259216,
          0.9463414549827576,
          0.9609755873680115,
          0.9707317352294922,
          0.9707317352294922,
          0.9804878234863281,
          0.9853658676147461,
          0.9902439117431641,
          0.9804878234863281,
          0.9804878234863281,
          0.9853658676147461,
          0.9902439117431641,
          0.9853658676147461,
          0.9853658676147461,
          0.9853658676147461,
          0.9853658676147461,
          0.9902439117431641,
          0.9902439117431641,
          0.9853658676147461,
          0.9853658676147461
         ]
        },
        {
         "mode": "lines",
         "name": "Loss",
         "type": "scatter",
         "x": [
          1,
          2,
          3,
          4,
          5,
          6,
          7,
          8,
          9,
          10,
          11,
          12,
          13,
          14,
          15,
          16,
          17,
          18,
          19,
          20,
          21,
          22,
          23,
          24,
          25,
          26,
          27,
          28,
          29,
          30,
          31,
          32,
          33,
          34,
          35,
          36,
          37,
          38,
          39,
          40,
          41,
          42,
          43,
          44,
          45,
          46
         ],
         "y": [
          2.0559191703796387,
          1.5817843675613403,
          1.3369576930999756,
          1.1718435287475586,
          1.0379579067230225,
          0.9161115884780884,
          0.8083427548408508,
          0.7273446917533875,
          0.6477634906768799,
          0.5877012610435486,
          0.5368032455444336,
          0.5032332539558411,
          0.46728402376174927,
          0.4360419511795044,
          0.4156757891178131,
          0.3957980275154114,
          0.3810220956802368,
          0.3613246977329254,
          0.34584924578666687,
          0.3310515880584717,
          0.31683865189552307,
          0.30589568614959717,
          0.29339873790740967,
          0.2787652015686035,
          0.26159533858299255,
          0.24663683772087097,
          0.225362628698349,
          0.20525170862674713,
          0.1822812855243683,
          0.16996054351329803,
          0.14181961119174957,
          0.12715226411819458,
          0.11196619272232056,
          0.09927534312009811,
          0.08749493211507797,
          0.07463648170232773,
          0.06899821758270264,
          0.0644761323928833,
          0.05950787663459778,
          0.053484439849853516,
          0.05027902498841286,
          0.04740525409579277,
          0.04789908602833748,
          0.04330867901444435,
          0.03916831687092781,
          0.03616273030638695
         ]
        },
        {
         "mode": "lines",
         "name": "Loss Validasi",
         "type": "scatter",
         "x": [
          1,
          2,
          3,
          4,
          5,
          6,
          7,
          8,
          9,
          10,
          11,
          12,
          13,
          14,
          15,
          16,
          17,
          18,
          19,
          20,
          21,
          22,
          23,
          24,
          25,
          26,
          27,
          28,
          29,
          30,
          31,
          32,
          33,
          34,
          35,
          36,
          37,
          38,
          39,
          40,
          41,
          42,
          43,
          44,
          45,
          46
         ],
         "y": [
          2.0811734199523926,
          1.996458888053894,
          1.9204061031341553,
          1.8462011814117432,
          1.7657476663589478,
          1.6769943237304688,
          1.590291976928711,
          1.5004206895828247,
          1.411784052848816,
          1.330703854560852,
          1.238472580909729,
          1.1542161703109741,
          1.0676136016845703,
          0.9950514435768127,
          0.9211353063583374,
          0.8526237607002258,
          0.7854169011116028,
          0.7301564812660217,
          0.6715794205665588,
          0.6223607659339905,
          0.5791394114494324,
          0.5409420728683472,
          0.5088377594947815,
          0.465853214263916,
          0.4444228410720825,
          0.4097505509853363,
          0.3688427209854126,
          0.3409554362297058,
          0.3081163465976715,
          0.2766149640083313,
          0.2434443235397339,
          0.2151113599538803,
          0.19453610479831696,
          0.17096658051013947,
          0.15762996673583984,
          0.14157143235206604,
          0.13287463784217834,
          0.12237740308046341,
          0.1144241988658905,
          0.10986744612455368,
          0.1069972962141037,
          0.10374633967876434,
          0.09411706030368805,
          0.09190007299184799,
          0.09059096872806549,
          0.08560701459646225
         ]
        }
       ],
       "layout": {
        "height": 600,
        "legend": {
         "orientation": "h",
         "x": 1,
         "xanchor": "right",
         "y": 1.02,
         "yanchor": "bottom"
        },
        "margin": {
         "b": 10,
         "l": 10,
         "r": 20,
         "t": 10
        },
        "template": {
         "data": {
          "bar": [
           {
            "error_x": {
             "color": "#2a3f5f"
            },
            "error_y": {
             "color": "#2a3f5f"
            },
            "marker": {
             "line": {
              "color": "#E5ECF6",
              "width": 0.5
             },
             "pattern": {
              "fillmode": "overlay",
              "size": 10,
              "solidity": 0.2
             }
            },
            "type": "bar"
           }
          ],
          "barpolar": [
           {
            "marker": {
             "line": {
              "color": "#E5ECF6",
              "width": 0.5
             },
             "pattern": {
              "fillmode": "overlay",
              "size": 10,
              "solidity": 0.2
             }
            },
            "type": "barpolar"
           }
          ],
          "carpet": [
           {
            "aaxis": {
             "endlinecolor": "#2a3f5f",
             "gridcolor": "white",
             "linecolor": "white",
             "minorgridcolor": "white",
             "startlinecolor": "#2a3f5f"
            },
            "baxis": {
             "endlinecolor": "#2a3f5f",
             "gridcolor": "white",
             "linecolor": "white",
             "minorgridcolor": "white",
             "startlinecolor": "#2a3f5f"
            },
            "type": "carpet"
           }
          ],
          "choropleth": [
           {
            "colorbar": {
             "outlinewidth": 0,
             "ticks": ""
            },
            "type": "choropleth"
           }
          ],
          "contour": [
           {
            "colorbar": {
             "outlinewidth": 0,
             "ticks": ""
            },
            "colorscale": [
             [
              0,
              "#0d0887"
             ],
             [
              0.1111111111111111,
              "#46039f"
             ],
             [
              0.2222222222222222,
              "#7201a8"
             ],
             [
              0.3333333333333333,
              "#9c179e"
             ],
             [
              0.4444444444444444,
              "#bd3786"
             ],
             [
              0.5555555555555556,
              "#d8576b"
             ],
             [
              0.6666666666666666,
              "#ed7953"
             ],
             [
              0.7777777777777778,
              "#fb9f3a"
             ],
             [
              0.8888888888888888,
              "#fdca26"
             ],
             [
              1,
              "#f0f921"
             ]
            ],
            "type": "contour"
           }
          ],
          "contourcarpet": [
           {
            "colorbar": {
             "outlinewidth": 0,
             "ticks": ""
            },
            "type": "contourcarpet"
           }
          ],
          "heatmap": [
           {
            "colorbar": {
             "outlinewidth": 0,
             "ticks": ""
            },
            "colorscale": [
             [
              0,
              "#0d0887"
             ],
             [
              0.1111111111111111,
              "#46039f"
             ],
             [
              0.2222222222222222,
              "#7201a8"
             ],
             [
              0.3333333333333333,
              "#9c179e"
             ],
             [
              0.4444444444444444,
              "#bd3786"
             ],
             [
              0.5555555555555556,
              "#d8576b"
             ],
             [
              0.6666666666666666,
              "#ed7953"
             ],
             [
              0.7777777777777778,
              "#fb9f3a"
             ],
             [
              0.8888888888888888,
              "#fdca26"
             ],
             [
              1,
              "#f0f921"
             ]
            ],
            "type": "heatmap"
           }
          ],
          "heatmapgl": [
           {
            "colorbar": {
             "outlinewidth": 0,
             "ticks": ""
            },
            "colorscale": [
             [
              0,
              "#0d0887"
             ],
             [
              0.1111111111111111,
              "#46039f"
             ],
             [
              0.2222222222222222,
              "#7201a8"
             ],
             [
              0.3333333333333333,
              "#9c179e"
             ],
             [
              0.4444444444444444,
              "#bd3786"
             ],
             [
              0.5555555555555556,
              "#d8576b"
             ],
             [
              0.6666666666666666,
              "#ed7953"
             ],
             [
              0.7777777777777778,
              "#fb9f3a"
             ],
             [
              0.8888888888888888,
              "#fdca26"
             ],
             [
              1,
              "#f0f921"
             ]
            ],
            "type": "heatmapgl"
           }
          ],
          "histogram": [
           {
            "marker": {
             "pattern": {
              "fillmode": "overlay",
              "size": 10,
              "solidity": 0.2
             }
            },
            "type": "histogram"
           }
          ],
          "histogram2d": [
           {
            "colorbar": {
             "outlinewidth": 0,
             "ticks": ""
            },
            "colorscale": [
             [
              0,
              "#0d0887"
             ],
             [
              0.1111111111111111,
              "#46039f"
             ],
             [
              0.2222222222222222,
              "#7201a8"
             ],
             [
              0.3333333333333333,
              "#9c179e"
             ],
             [
              0.4444444444444444,
              "#bd3786"
             ],
             [
              0.5555555555555556,
              "#d8576b"
             ],
             [
              0.6666666666666666,
              "#ed7953"
             ],
             [
              0.7777777777777778,
              "#fb9f3a"
             ],
             [
              0.8888888888888888,
              "#fdca26"
             ],
             [
              1,
              "#f0f921"
             ]
            ],
            "type": "histogram2d"
           }
          ],
          "histogram2dcontour": [
           {
            "colorbar": {
             "outlinewidth": 0,
             "ticks": ""
            },
            "colorscale": [
             [
              0,
              "#0d0887"
             ],
             [
              0.1111111111111111,
              "#46039f"
             ],
             [
              0.2222222222222222,
              "#7201a8"
             ],
             [
              0.3333333333333333,
              "#9c179e"
             ],
             [
              0.4444444444444444,
              "#bd3786"
             ],
             [
              0.5555555555555556,
              "#d8576b"
             ],
             [
              0.6666666666666666,
              "#ed7953"
             ],
             [
              0.7777777777777778,
              "#fb9f3a"
             ],
             [
              0.8888888888888888,
              "#fdca26"
             ],
             [
              1,
              "#f0f921"
             ]
            ],
            "type": "histogram2dcontour"
           }
          ],
          "mesh3d": [
           {
            "colorbar": {
             "outlinewidth": 0,
             "ticks": ""
            },
            "type": "mesh3d"
           }
          ],
          "parcoords": [
           {
            "line": {
             "colorbar": {
              "outlinewidth": 0,
              "ticks": ""
             }
            },
            "type": "parcoords"
           }
          ],
          "pie": [
           {
            "automargin": true,
            "type": "pie"
           }
          ],
          "scatter": [
           {
            "fillpattern": {
             "fillmode": "overlay",
             "size": 10,
             "solidity": 0.2
            },
            "type": "scatter"
           }
          ],
          "scatter3d": [
           {
            "line": {
             "colorbar": {
              "outlinewidth": 0,
              "ticks": ""
             }
            },
            "marker": {
             "colorbar": {
              "outlinewidth": 0,
              "ticks": ""
             }
            },
            "type": "scatter3d"
           }
          ],
          "scattercarpet": [
           {
            "marker": {
             "colorbar": {
              "outlinewidth": 0,
              "ticks": ""
             }
            },
            "type": "scattercarpet"
           }
          ],
          "scattergeo": [
           {
            "marker": {
             "colorbar": {
              "outlinewidth": 0,
              "ticks": ""
             }
            },
            "type": "scattergeo"
           }
          ],
          "scattergl": [
           {
            "marker": {
             "colorbar": {
              "outlinewidth": 0,
              "ticks": ""
             }
            },
            "type": "scattergl"
           }
          ],
          "scattermapbox": [
           {
            "marker": {
             "colorbar": {
              "outlinewidth": 0,
              "ticks": ""
             }
            },
            "type": "scattermapbox"
           }
          ],
          "scatterpolar": [
           {
            "marker": {
             "colorbar": {
              "outlinewidth": 0,
              "ticks": ""
             }
            },
            "type": "scatterpolar"
           }
          ],
          "scatterpolargl": [
           {
            "marker": {
             "colorbar": {
              "outlinewidth": 0,
              "ticks": ""
             }
            },
            "type": "scatterpolargl"
           }
          ],
          "scatterternary": [
           {
            "marker": {
             "colorbar": {
              "outlinewidth": 0,
              "ticks": ""
             }
            },
            "type": "scatterternary"
           }
          ],
          "surface": [
           {
            "colorbar": {
             "outlinewidth": 0,
             "ticks": ""
            },
            "colorscale": [
             [
              0,
              "#0d0887"
             ],
             [
              0.1111111111111111,
              "#46039f"
             ],
             [
              0.2222222222222222,
              "#7201a8"
             ],
             [
              0.3333333333333333,
              "#9c179e"
             ],
             [
              0.4444444444444444,
              "#bd3786"
             ],
             [
              0.5555555555555556,
              "#d8576b"
             ],
             [
              0.6666666666666666,
              "#ed7953"
             ],
             [
              0.7777777777777778,
              "#fb9f3a"
             ],
             [
              0.8888888888888888,
              "#fdca26"
             ],
             [
              1,
              "#f0f921"
             ]
            ],
            "type": "surface"
           }
          ],
          "table": [
           {
            "cells": {
             "fill": {
              "color": "#EBF0F8"
             },
             "line": {
              "color": "white"
             }
            },
            "header": {
             "fill": {
              "color": "#C8D4E3"
             },
             "line": {
              "color": "white"
             }
            },
            "type": "table"
           }
          ]
         },
         "layout": {
          "annotationdefaults": {
           "arrowcolor": "#2a3f5f",
           "arrowhead": 0,
           "arrowwidth": 1
          },
          "autotypenumbers": "strict",
          "coloraxis": {
           "colorbar": {
            "outlinewidth": 0,
            "ticks": ""
           }
          },
          "colorscale": {
           "diverging": [
            [
             0,
             "#8e0152"
            ],
            [
             0.1,
             "#c51b7d"
            ],
            [
             0.2,
             "#de77ae"
            ],
            [
             0.3,
             "#f1b6da"
            ],
            [
             0.4,
             "#fde0ef"
            ],
            [
             0.5,
             "#f7f7f7"
            ],
            [
             0.6,
             "#e6f5d0"
            ],
            [
             0.7,
             "#b8e186"
            ],
            [
             0.8,
             "#7fbc41"
            ],
            [
             0.9,
             "#4d9221"
            ],
            [
             1,
             "#276419"
            ]
           ],
           "sequential": [
            [
             0,
             "#0d0887"
            ],
            [
             0.1111111111111111,
             "#46039f"
            ],
            [
             0.2222222222222222,
             "#7201a8"
            ],
            [
             0.3333333333333333,
             "#9c179e"
            ],
            [
             0.4444444444444444,
             "#bd3786"
            ],
            [
             0.5555555555555556,
             "#d8576b"
            ],
            [
             0.6666666666666666,
             "#ed7953"
            ],
            [
             0.7777777777777778,
             "#fb9f3a"
            ],
            [
             0.8888888888888888,
             "#fdca26"
            ],
            [
             1,
             "#f0f921"
            ]
           ],
           "sequentialminus": [
            [
             0,
             "#0d0887"
            ],
            [
             0.1111111111111111,
             "#46039f"
            ],
            [
             0.2222222222222222,
             "#7201a8"
            ],
            [
             0.3333333333333333,
             "#9c179e"
            ],
            [
             0.4444444444444444,
             "#bd3786"
            ],
            [
             0.5555555555555556,
             "#d8576b"
            ],
            [
             0.6666666666666666,
             "#ed7953"
            ],
            [
             0.7777777777777778,
             "#fb9f3a"
            ],
            [
             0.8888888888888888,
             "#fdca26"
            ],
            [
             1,
             "#f0f921"
            ]
           ]
          },
          "colorway": [
           "#636efa",
           "#EF553B",
           "#00cc96",
           "#ab63fa",
           "#FFA15A",
           "#19d3f3",
           "#FF6692",
           "#B6E880",
           "#FF97FF",
           "#FECB52"
          ],
          "font": {
           "color": "#2a3f5f"
          },
          "geo": {
           "bgcolor": "white",
           "lakecolor": "white",
           "landcolor": "#E5ECF6",
           "showlakes": true,
           "showland": true,
           "subunitcolor": "white"
          },
          "hoverlabel": {
           "align": "left"
          },
          "hovermode": "closest",
          "mapbox": {
           "style": "light"
          },
          "paper_bgcolor": "white",
          "plot_bgcolor": "#E5ECF6",
          "polar": {
           "angularaxis": {
            "gridcolor": "white",
            "linecolor": "white",
            "ticks": ""
           },
           "bgcolor": "#E5ECF6",
           "radialaxis": {
            "gridcolor": "white",
            "linecolor": "white",
            "ticks": ""
           }
          },
          "scene": {
           "xaxis": {
            "backgroundcolor": "#E5ECF6",
            "gridcolor": "white",
            "gridwidth": 2,
            "linecolor": "white",
            "showbackground": true,
            "ticks": "",
            "zerolinecolor": "white"
           },
           "yaxis": {
            "backgroundcolor": "#E5ECF6",
            "gridcolor": "white",
            "gridwidth": 2,
            "linecolor": "white",
            "showbackground": true,
            "ticks": "",
            "zerolinecolor": "white"
           },
           "zaxis": {
            "backgroundcolor": "#E5ECF6",
            "gridcolor": "white",
            "gridwidth": 2,
            "linecolor": "white",
            "showbackground": true,
            "ticks": "",
            "zerolinecolor": "white"
           }
          },
          "shapedefaults": {
           "line": {
            "color": "#2a3f5f"
           }
          },
          "ternary": {
           "aaxis": {
            "gridcolor": "white",
            "linecolor": "white",
            "ticks": ""
           },
           "baxis": {
            "gridcolor": "white",
            "linecolor": "white",
            "ticks": ""
           },
           "bgcolor": "#E5ECF6",
           "caxis": {
            "gridcolor": "white",
            "linecolor": "white",
            "ticks": ""
           }
          },
          "title": {
           "x": 0.05
          },
          "xaxis": {
           "automargin": true,
           "gridcolor": "white",
           "linecolor": "white",
           "ticks": "",
           "title": {
            "standoff": 15
           },
           "zerolinecolor": "white",
           "zerolinewidth": 2
          },
          "yaxis": {
           "automargin": true,
           "gridcolor": "white",
           "linecolor": "white",
           "ticks": "",
           "title": {
            "standoff": 15
           },
           "zerolinecolor": "white",
           "zerolinewidth": 2
          }
         }
        },
        "width": 1000,
        "xaxis": {
         "title": {
          "text": "Epoch"
         }
        },
        "yaxis": {
         "title": {
          "text": "Nilai"
         }
        }
       }
      }
     },
     "metadata": {},
     "output_type": "display_data"
    }
   ],
   "source": [
    "fig = go.Figure()\n",
    "fig.add_trace(go.Scatter(x=np.arange(1,len(accuracy)+1), y=accuracy,\n",
    "                    mode='lines',\n",
    "                    name='Akurasi'))\n",
    "fig.add_trace(go.Scatter(x=np.arange(1,len(val_accuracy)+1), y=val_accuracy, \n",
    "                    mode='lines',\n",
    "                    name='Akurasi Validasi'))\n",
    "# fig.add_trace(go.Scatter(x=np.arange(1,len(f1_score)+1), y=np.average(f1_score, axis=1),\n",
    "#                     mode='lines',\n",
    "#                     name='F1-Score'))\n",
    "# fig.add_trace(go.Scatter(x=np.arange(1,len(val_f1_score)+1), y=np.average(val_f1_score, axis=1),\n",
    "#                     mode='lines',\n",
    "#                     name='F1-Score Validasi'))\n",
    "fig.add_trace(go.Scatter(x=np.arange(1,len(loss)+1), y=loss,\n",
    "                    mode='lines',\n",
    "                    name='Loss'))\n",
    "fig.add_trace(go.Scatter(x=np.arange(1,len(val_loss)+1), y=val_loss, \n",
    "                    mode='lines',\n",
    "                    name='Loss Validasi'))  \n",
    "\n",
    "\n",
    "fig.update_layout(height=600, width=1000)\n",
    "fig.update_layout(xaxis_title='Epoch', yaxis_title='Nilai')\n",
    "fig.update_layout(legend=dict(\n",
    "    orientation=\"h\",\n",
    "    yanchor=\"bottom\",\n",
    "    y=1.02,\n",
    "    xanchor=\"right\",\n",
    "    x=1\n",
    "))\n",
    "# fig.add_vline(\n",
    "#         x=np.argmax(val_accuracy)+1, line_width=1, line_dash=\"dash\", \n",
    "#         line_color=\"red\")\n",
    "\n",
    "# fig.add_annotation(x=np.argmax(val_accuracy)+1, y=np.max(val_accuracy),\n",
    "#             text=f\"Model Akurasi Validasi Tertinggi (Epoch ke-{np.argmax(val_accuracy)+1})\",\n",
    "#             ay=100,\n",
    "#             ax=150,\n",
    "#             showarrow=True,\n",
    "#             arrowhead=1,arrowwidth=2,arrowsize=1,\n",
    "#             font=dict(\n",
    "#                 color=\"black\",\n",
    "#                 size=12\n",
    "#             ),\n",
    "#             bgcolor=\"#FFD54F\",borderwidth=1,borderpad=4,)\n",
    "\n",
    "fig.update_layout(margin=dict(l=10, r=20, t=10, b=10))\n",
    "\n",
    "fig.show()"
   ]
  },
  {
   "cell_type": "code",
   "execution_count": 50,
   "metadata": {},
   "outputs": [
    {
     "data": {
      "text/plain": [
       "0.0004845588409807533"
      ]
     },
     "execution_count": 50,
     "metadata": {},
     "output_type": "execute_result"
    }
   ],
   "source": [
    "loss[-1]"
   ]
  },
  {
   "cell_type": "code",
   "execution_count": 367,
   "metadata": {},
   "outputs": [],
   "source": [
    "import plotly.io as pio\n",
    "pio.write_image(fig, 'asset/bilstm dset2.png',scale=3, width=1080, height=648)"
   ]
  },
  {
   "cell_type": "code",
   "execution_count": null,
   "metadata": {},
   "outputs": [],
   "source": [
    "fig = go.Figure()\n",
    "fig.add_trace(go.Scatter(x=np.arange(1,len(loss)+1), y=loss,\n",
    "                    mode='lines',\n",
    "                    name='Loss'))\n",
    "fig.add_trace(go.Scatter(x=np.arange(1,len(val_loss)+1), y=val_loss, \n",
    "                    mode='lines',\n",
    "                    name='Loss Validasi'))\n",
    "\n",
    "fig.update_layout(height=600, width=1000)\n",
    "fig.update_layout(xaxis_title='Epoch', yaxis_title='Nilai')\n",
    "fig.update_layout(legend=dict(\n",
    "    orientation=\"h\",\n",
    "    yanchor=\"bottom\",\n",
    "    y=1.02,\n",
    "    xanchor=\"right\",\n",
    "    x=1\n",
    "))\n",
    "\n",
    "fig.update_layout(margin=dict(l=10, r=20, t=10, b=10))\n",
    "\n",
    "fig.show()"
   ]
  },
  {
   "cell_type": "code",
   "execution_count": 212,
   "metadata": {},
   "outputs": [],
   "source": [
    "import plotly.io as pio\n",
    "pio.write_image(fig, 'asset/lstm dset1 loss.png',scale=2, width=1080, height=648)\n",
    "# pio.write_image(fig, 'asset/image.png',scale=2, width=1080, height=648)"
   ]
  },
  {
   "cell_type": "code",
   "execution_count": 26,
   "metadata": {},
   "outputs": [
    {
     "data": {
      "text/plain": [
       "array([0.12010226, 0.09312012])"
      ]
     },
     "execution_count": 26,
     "metadata": {},
     "output_type": "execute_result"
    }
   ],
   "source": [
    "val_loss[[19,29]]"
   ]
  },
  {
   "cell_type": "code",
   "execution_count": 24,
   "metadata": {},
   "outputs": [
    {
     "data": {
      "text/plain": [
       "array([0.9762738, 0.990039 ], dtype=float32)"
      ]
     },
     "execution_count": 24,
     "metadata": {},
     "output_type": "execute_result"
    }
   ],
   "source": [
    "np.average(f1_score[[19,29]], axis=1)"
   ]
  },
  {
   "cell_type": "code",
   "execution_count": 56,
   "metadata": {},
   "outputs": [
    {
     "name": "stderr",
     "output_type": "stream",
     "text": [
      "c:\\Users\\Wildan Mufid R\\miniconda3\\envs\\main\\lib\\site-packages\\sklearn\\preprocessing\\_encoders.py:972: FutureWarning: `sparse` was renamed to `sparse_output` in version 1.2 and will be removed in 1.4. `sparse_output` is ignored unless you leave `sparse` to its default value.\n",
      "  warnings.warn(\n"
     ]
    }
   ],
   "source": [
    "with h5py.File('data/.preprocessed_data/datasets1.h5','r') as hf:\n",
    "    y_train = np.array(hf.get('y_train'))\n",
    "    y_val = np.array(hf.get('y_val'))\n",
    "\n",
    "OHE = OneHotEncoder(sparse=False).fit(y_train.reshape(-1, 1))\n",
    "\n",
    "decoder = {i : sign for i, sign in enumerate(OHE.categories_[0])}\n",
    "\n",
    "y_train = OHE.transform(y_train.reshape(-1, 1))\n",
    "y_val = OHE.transform(y_val.reshape(-1, 1))"
   ]
  },
  {
   "cell_type": "code",
   "execution_count": 82,
   "metadata": {},
   "outputs": [],
   "source": [
    "with h5py.File('data/.preprocessed_data/datasets5.h5','r') as hf:\n",
    "    x_train = np.array(hf.get('x_train'))\n",
    "    x_val = np.array(hf.get('x_val'))"
   ]
  },
  {
   "cell_type": "code",
   "execution_count": 89,
   "metadata": {},
   "outputs": [
    {
     "name": "stdout",
     "output_type": "stream",
     "text": [
      "<KeysViewHDF5 ['accuracy', 'f1_score', 'loss', 'relative', 'val_accuracy', 'val_loss']>\n"
     ]
    }
   ],
   "source": [
    "with h5py.File('logs/history_bilstm_dset5.h5','r') as hf:\n",
    "    print(hf.keys())\n",
    "    accuracy = np.array(hf.get('accuracy'))\n",
    "    f1_score = np.array(hf.get('f1_score'))\n",
    "    loss = np.array(hf.get('loss'))\n",
    "    val_accuracy = np.array(hf.get('val_accuracy'))\n",
    "    val_loss = np.array(hf.get('val_loss'))"
   ]
  },
  {
   "cell_type": "code",
   "execution_count": 90,
   "metadata": {},
   "outputs": [
    {
     "name": "stdout",
     "output_type": "stream",
     "text": [
      "22\n",
      "0.9865196347236633\n",
      "0.9853658676147461\n",
      "0.98620385\n",
      "0.04573823884129524\n",
      "0.04791378229856491\n"
     ]
    }
   ],
   "source": [
    "print(np.argmax(val_accuracy))\n",
    "print(accuracy[np.argmax(val_accuracy)])\n",
    "print(val_accuracy[np.argmax(val_accuracy)])\n",
    "print(np.average(f1_score[np.argmax(val_accuracy)]))\n",
    "print(loss[np.argmax(val_accuracy)])\n",
    "print(val_loss[np.argmax(val_accuracy)])"
   ]
  },
  {
   "cell_type": "code",
   "execution_count": 91,
   "metadata": {},
   "outputs": [],
   "source": [
    "model3 = tf.keras.models.load_model(f'models/best_bilstm_dset5.h5', custom_objects={'Addons>F1Score': tfa.metrics.F1Score(9)})"
   ]
  },
  {
   "cell_type": "code",
   "execution_count": 92,
   "metadata": {},
   "outputs": [
    {
     "name": "stdout",
     "output_type": "stream",
     "text": [
      "7/7 [==============================] - 4s 261ms/step - loss: 0.0479 - accuracy: 0.9854 - f1_score: 0.9855\n"
     ]
    }
   ],
   "source": [
    "history = model3.evaluate(x_val, y_val)"
   ]
  }
 ],
 "metadata": {
  "kernelspec": {
   "display_name": "main",
   "language": "python",
   "name": "python3"
  },
  "language_info": {
   "codemirror_mode": {
    "name": "ipython",
    "version": 3
   },
   "file_extension": ".py",
   "mimetype": "text/x-python",
   "name": "python",
   "nbconvert_exporter": "python",
   "pygments_lexer": "ipython3",
   "version": "3.10.12"
  }
 },
 "nbformat": 4,
 "nbformat_minor": 2
}
