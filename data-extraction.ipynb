{
 "cells": [
  {
   "cell_type": "markdown",
   "metadata": {},
   "source": [
    "# Data Extraction Notebook\n",
    "---\n"
   ]
  },
  {
   "cell_type": "markdown",
   "metadata": {},
   "source": [
    "## Import Depedencies\n"
   ]
  },
  {
   "cell_type": "code",
   "execution_count": 1,
   "metadata": {},
   "outputs": [],
   "source": [
    "import cv2\n",
    "import mediapipe as mp\n",
    "\n",
    "import json\n",
    "import os\n",
    "import re\n",
    "import shutil\n",
    "import pyarrow.parquet as pq\n",
    "import pyarrow as pa\n",
    "import tqdm\n",
    "import sys\n",
    "\n",
    "import numpy as np\n",
    "import pandas as pd"
   ]
  },
  {
   "cell_type": "markdown",
   "metadata": {},
   "source": [
    "## Function Helper\n"
   ]
  },
  {
   "cell_type": "code",
   "execution_count": 2,
   "metadata": {},
   "outputs": [],
   "source": [
    "def mp_detection(frame, mp_model):\n",
    "    frame = cv2.cvtColor(frame, cv2.COLOR_BGR2RGB)\n",
    "    frame.flags.writeable = False\n",
    "    landmarks = mp_model.process(frame)\n",
    "    return landmarks"
   ]
  },
  {
   "cell_type": "code",
   "execution_count": 3,
   "metadata": {},
   "outputs": [],
   "source": [
    "def assign_landmark(landmark, type, num_frame, landmark_id, x, y, z, vis):\n",
    "    \n",
    "    for id, cord in enumerate(landmark):\n",
    "        landmark_id.append(f\"{num_frame}-{type}-{id}\")\n",
    "        x.append(cord.x)\n",
    "        y.append(cord.y)\n",
    "        z.append(cord.z)\n",
    "        vis.append(cord.visibility if cord.visibility else 0)\n",
    "    \n",
    "    return landmark_id, x, y, z, vis"
   ]
  },
  {
   "cell_type": "code",
   "execution_count": 4,
   "metadata": {},
   "outputs": [],
   "source": [
    "def assign_empty_landmark(size, type, num_frame, landmark_id, x, y, z, vis):\n",
    "    \n",
    "    for id in range(0,size):\n",
    "        landmark_id.append(f\"{num_frame}-{type}-{id}\")\n",
    "        x.append(0)\n",
    "        y.append(0)\n",
    "        z.append(0)\n",
    "        vis.append(0)\n",
    "    \n",
    "    return landmark_id, x, y, z, vis"
   ]
  },
  {
   "cell_type": "code",
   "execution_count": 15,
   "metadata": {},
   "outputs": [],
   "source": [
    "def extract_keypoints(landmarks, num_frame):\n",
    "    landmark_id = []\n",
    "    x, y, z, vis = [], [], [], []\n",
    "    \n",
    "    #Face\n",
    "    if landmarks.face_landmarks:\n",
    "        landmark_id, x, y, z, vis = assign_landmark(landmarks.face_landmarks.landmark, 'face', \n",
    "                                                    num_frame, landmark_id, x, y, z, vis)\n",
    "    else:\n",
    "        landmark_id, x, y, z, vis = assign_empty_landmark(468, 'face', \n",
    "                                                          num_frame, landmark_id, x, y, z, vis)\n",
    "    \n",
    "    #Pose     \n",
    "    if landmarks.pose_landmarks:\n",
    "        landmark_id, x, y, z, vis = assign_landmark(landmarks.pose_landmarks.landmark, 'pose', \n",
    "                                                    num_frame, landmark_id, x, y, z, vis)\n",
    "    else:\n",
    "        landmark_id, x, y, z, vis = assign_empty_landmark(33, 'pose', \n",
    "                                                          num_frame, landmark_id, x, y, z, vis)\n",
    "\n",
    "    #Right Hand    \n",
    "    if landmarks.right_hand_landmarks:\n",
    "        landmark_id, x, y, z, vis = assign_landmark(landmarks.right_hand_landmarks.landmark, 'right_hand', \n",
    "                                                    num_frame, landmark_id, x, y, z, vis)\n",
    "    else:\n",
    "        landmark_id, x, y, z, vis = assign_empty_landmark(21, 'right_hand', \n",
    "                                                          num_frame, landmark_id, x, y, z, vis)\n",
    "    #Left Hand\n",
    "    if landmarks.left_hand_landmarks:\n",
    "        landmark_id, x, y, z, vis = assign_landmark(landmarks.left_hand_landmarks.landmark, 'left_hand', \n",
    "                                                    num_frame, landmark_id, x, y, z, vis) \n",
    "    else:\n",
    "        landmark_id, x, y, z, vis = assign_empty_landmark(21, 'left_hand', \n",
    "                                                          num_frame, landmark_id, x, y, z, vis)\n",
    "    return [landmark_id, x, y, z, vis]"
   ]
  },
  {
   "cell_type": "code",
   "execution_count": 16,
   "metadata": {},
   "outputs": [],
   "source": [
    "def extract_video(fname, fPATH, tricks, mp_model, save_PATH):  \n",
    "    list_save_PATH = []\n",
    "    signs = []\n",
    "    total_frame = []\n",
    "     \n",
    "    with mp_model.Holistic(min_detection_confidence=.5, min_tracking_confidence=.5) as holistic_model:\n",
    "        \n",
    "        cap = cv2.VideoCapture(fPATH)\n",
    "        id = 0\n",
    "        \n",
    "        for i in tqdm.trange(len(tricks), desc = f\"Extracting \\\"{fPATH}\\\"\", ncols=150, leave=False):\n",
    "            landmark_id = []\n",
    "            x, y, z, vis = [], [], [], []\n",
    "            \n",
    "            start_ms = int(tricks[i]['start'] * 1000)\n",
    "            end_ms = int(tricks[i]['end'] * 1000)\n",
    "            \n",
    "                \n",
    "            cap.set(cv2.CAP_PROP_POS_MSEC, start_ms)\n",
    "            num_frame = 1\n",
    "            while True:\n",
    "                ret, frame = cap.read()\n",
    "                \n",
    "                if not ret or cap.get(cv2.CAP_PROP_POS_MSEC) > end_ms:\n",
    "                    break\n",
    "                                \n",
    "                landmarks = mp_detection(frame, holistic_model)\n",
    "                results = extract_keypoints(landmarks, num_frame)\n",
    "                                \n",
    "                landmark_id.extend(results[0])\n",
    "                x.extend(results[1])\n",
    "                y.extend(results[2])\n",
    "                z.extend(results[3])\n",
    "                vis.extend(results[4])\n",
    "                                \n",
    "                num_frame += 1\n",
    "            \n",
    "            final_save_PATH = f\"{fname.split('.')[0]}_{id}.parquet\"                       \n",
    "            pq.write_table(pa.Table.from_pandas(pd.DataFrame({'landmark_id':np.array(landmark_id).astype(str), \n",
    "                                                              'x':np.array(x).astype(float), \n",
    "                                                              'y':np.array(y).astype(float), \n",
    "                                                              'z':np.array(z).astype(float), \n",
    "                                                              'vis':np.array(vis).astype(float)})), \n",
    "                           final_save_PATH)\n",
    "            \n",
    "            list_save_PATH.append(final_save_PATH)\n",
    "            total_frame.append(num_frame)\n",
    "            signs.append(tricks[i]['labels'][0])\n",
    "            \n",
    "            id += 1\n",
    "            \n",
    "        cap.release()\n",
    "    \n",
    "    return list_save_PATH, signs, total_frame"
   ]
  },
  {
   "cell_type": "markdown",
   "metadata": {},
   "source": [
    "## Extract Data\n"
   ]
  },
  {
   "cell_type": "markdown",
   "metadata": {},
   "source": [
    "- Global Variable\n"
   ]
  },
  {
   "cell_type": "code",
   "execution_count": 7,
   "metadata": {},
   "outputs": [],
   "source": [
    "mp_holistic = mp.solutions.holistic\n",
    "DATA_PATH = 'data'\n",
    "participants = os.listdir(DATA_PATH)"
   ]
  },
  {
   "cell_type": "markdown",
   "metadata": {},
   "source": [
    "- Extraction Process\n"
   ]
  },
  {
   "cell_type": "code",
   "execution_count": 25,
   "metadata": {},
   "outputs": [
    {
     "name": "stderr",
     "output_type": "stream",
     "text": [
      "                                                                                                                                                      \r"
     ]
    }
   ],
   "source": [
    "save_PATH_DATA = []\n",
    "signs_DATA = []\n",
    "\n",
    "for participant in participants:\n",
    "\n",
    "    with open(f\"{DATA_PATH}/{participant}/annotation.json\", 'r') as json_file:\n",
    "        json_data = json_file.read()\n",
    "    json_file.close()\n",
    "\n",
    "    save_PATH = f\"{DATA_PATH}/{participant}/raw_landmarks\"\n",
    "\n",
    "    try:\n",
    "        os.mkdir(save_PATH)\n",
    "    except OSError as err:\n",
    "        pass \n",
    "\n",
    "    for json_list in json.loads(json_data):\n",
    "        fname = re.sub('_',' ',re.split(r'[/-]', json_list['video_url'])[-1])\n",
    "        fPATH = f\"{DATA_PATH}/{participant}/{fname}\"\n",
    "        \n",
    "        list_sPATH, signs = extract_video(fname, fPATH, json_list['tricks'], mp_holistic, save_PATH)\n",
    "        \n",
    "        save_PATH_DATA.extend(list_sPATH)\n",
    "        signs_DATA.extend(signs)"
   ]
  },
  {
   "cell_type": "code",
   "execution_count": 11,
   "metadata": {},
   "outputs": [],
   "source": [
    "pd.DataFrame({\n",
    "    'path':np.array(save_PATH_DATA).astype(str),\n",
    "    'sign':np.array(signs_DATA).astype(str)\n",
    "}).to_csv('data_map.csv', index=False)"
   ]
  }
 ],
 "metadata": {
  "kernelspec": {
   "display_name": "main",
   "language": "python",
   "name": "python3"
  },
  "language_info": {
   "codemirror_mode": {
    "name": "ipython",
    "version": 3
   },
   "file_extension": ".py",
   "mimetype": "text/x-python",
   "name": "python",
   "nbconvert_exporter": "python",
   "pygments_lexer": "ipython3",
   "version": "3.10.12"
  },
  "orig_nbformat": 4
 },
 "nbformat": 4,
 "nbformat_minor": 2
}
